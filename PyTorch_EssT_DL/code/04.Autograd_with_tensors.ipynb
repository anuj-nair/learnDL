{
 "cells": [
  {
   "cell_type": "markdown",
   "metadata": {
    "colab_type": "text",
    "id": "KPXHZpput5Xf"
   },
   "source": [
    "# Autograd with tensors"
   ]
  },
  {
   "cell_type": "code",
   "execution_count": 1,
   "metadata": {
    "colab": {},
    "colab_type": "code",
    "id": "p-C6nLqAt98a"
   },
   "outputs": [],
   "source": [
    "import torch"
   ]
  },
  {
   "cell_type": "code",
   "execution_count": 3,
   "metadata": {
    "colab": {},
    "colab_type": "code",
    "id": "WRSfe0Lut952"
   },
   "outputs": [],
   "source": [
    "w = torch.randn(4,3,requires_grad=True)"
   ]
  },
  {
   "cell_type": "code",
   "execution_count": 4,
   "metadata": {
    "colab": {},
    "colab_type": "code",
    "id": "O-QcOYO1tkOn"
   },
   "outputs": [
    {
     "data": {
      "text/plain": [
       "tensor([[ 2.0181,  0.8956,  1.5882],\n",
       "        [-1.7393,  0.5541,  0.1964],\n",
       "        [-1.5610, -1.7543,  0.4689],\n",
       "        [ 0.4940,  0.3247, -0.1768]], requires_grad=True)"
      ]
     },
     "execution_count": 4,
     "metadata": {},
     "output_type": "execute_result"
    }
   ],
   "source": [
    "w"
   ]
  },
  {
   "cell_type": "code",
   "execution_count": 6,
   "metadata": {
    "colab": {},
    "colab_type": "code",
    "id": "FuWckF34t8X1"
   },
   "outputs": [
    {
     "data": {
      "text/plain": [
       "tensor([[ 2.0181,  0.8956,  1.5882],\n",
       "        [-1.7393,  0.5541,  0.1964],\n",
       "        [-1.5610, -1.7543,  0.4689],\n",
       "        [ 0.4940,  0.3247, -0.1768]])"
      ]
     },
     "execution_count": 6,
     "metadata": {},
     "output_type": "execute_result"
    }
   ],
   "source": [
    "w.requires_grad_(False)\n",
    "w"
   ]
  },
  {
   "cell_type": "code",
   "execution_count": 7,
   "metadata": {
    "colab": {},
    "colab_type": "code",
    "id": "SkQCjuabt8Vh"
   },
   "outputs": [
    {
     "data": {
      "text/plain": [
       "tensor([[ 2.0181,  0.8956,  1.5882],\n",
       "        [-1.7393,  0.5541,  0.1964],\n",
       "        [-1.5610, -1.7543,  0.4689],\n",
       "        [ 0.4940,  0.3247, -0.1768]], requires_grad=True)"
      ]
     },
     "execution_count": 7,
     "metadata": {},
     "output_type": "execute_result"
    }
   ],
   "source": [
    "w.requires_grad_(True)\n",
    "w"
   ]
  },
  {
   "cell_type": "code",
   "execution_count": 11,
   "metadata": {
    "colab": {},
    "colab_type": "code",
    "id": "rvggJC5wt8Ti"
   },
   "outputs": [
    {
     "data": {
      "text/plain": [
       "tensor([[7.5240, 2.4487, 4.8951],\n",
       "        [0.1756, 1.7404, 1.2170],\n",
       "        [0.2099, 0.1730, 1.5982],\n",
       "        [1.6388, 1.3836, 0.8380]], grad_fn=<ExpBackward>)"
      ]
     },
     "execution_count": 11,
     "metadata": {},
     "output_type": "execute_result"
    }
   ],
   "source": [
    "y = torch.exp(w)\n",
    "y"
   ]
  },
  {
   "cell_type": "code",
   "execution_count": 12,
   "metadata": {
    "colab": {},
    "colab_type": "code",
    "id": "PEg2PQiXt8RR"
   },
   "outputs": [
    {
     "data": {
      "text/plain": [
       "<ExpBackward at 0x7fbbcd3aa908>"
      ]
     },
     "execution_count": 12,
     "metadata": {},
     "output_type": "execute_result"
    }
   ],
   "source": [
    "y.grad_fn"
   ]
  },
  {
   "cell_type": "code",
   "execution_count": 13,
   "metadata": {
    "colab": {},
    "colab_type": "code",
    "id": "QZopoC8It8O7"
   },
   "outputs": [
    {
     "data": {
      "text/plain": [
       "tensor(1.9869, grad_fn=<MeanBackward0>)"
      ]
     },
     "execution_count": 13,
     "metadata": {},
     "output_type": "execute_result"
    }
   ],
   "source": [
    "outp = y.mean()\n",
    "outp"
   ]
  },
  {
   "cell_type": "code",
   "execution_count": 15,
   "metadata": {
    "colab": {},
    "colab_type": "code",
    "id": "ManI6K2rt8HD"
   },
   "outputs": [
    {
     "name": "stdout",
     "output_type": "stream",
     "text": [
      "None\n"
     ]
    }
   ],
   "source": [
    "print(w.grad)"
   ]
  },
  {
   "cell_type": "code",
   "execution_count": 16,
   "metadata": {
    "colab": {},
    "colab_type": "code",
    "id": "tbQpKI4it8EJ"
   },
   "outputs": [],
   "source": [
    "outp.backward()"
   ]
  },
  {
   "cell_type": "code",
   "execution_count": 17,
   "metadata": {
    "colab": {},
    "colab_type": "code",
    "id": "Qq3KkSGvt8B_"
   },
   "outputs": [
    {
     "name": "stdout",
     "output_type": "stream",
     "text": [
      "tensor([[0.6270, 0.2041, 0.4079],\n",
      "        [0.0146, 0.1450, 0.1014],\n",
      "        [0.0175, 0.0144, 0.1332],\n",
      "        [0.1366, 0.1153, 0.0698]])\n"
     ]
    }
   ],
   "source": [
    "print(w.grad)"
   ]
  },
  {
   "cell_type": "code",
   "execution_count": 18,
   "metadata": {
    "colab": {},
    "colab_type": "code",
    "id": "SgOzb_QMt7_-"
   },
   "outputs": [
    {
     "name": "stdout",
     "output_type": "stream",
     "text": [
      "tensor([[ 2.0181,  0.8956,  1.5882],\n",
      "        [-1.7393,  0.5541,  0.1964],\n",
      "        [-1.5610, -1.7543,  0.4689],\n",
      "        [ 0.4940,  0.3247, -0.1768]])\n"
     ]
    }
   ],
   "source": [
    "print(w.detach())"
   ]
  },
  {
   "cell_type": "code",
   "execution_count": 22,
   "metadata": {
    "colab": {},
    "colab_type": "code",
    "id": "zVpIjfJ9t79q"
   },
   "outputs": [
    {
     "name": "stdout",
     "output_type": "stream",
     "text": [
      "True\n",
      "False\n"
     ]
    }
   ],
   "source": [
    "print(outp.requires_grad)\n",
    "\n",
    "with torch.no_grad():\n",
    "    outp = (w+y).mean()\n",
    "\n",
    "print(outp.requires_grad)"
   ]
  },
  {
   "cell_type": "code",
   "execution_count": 0,
   "metadata": {
    "colab": {},
    "colab_type": "code",
    "id": "_zJ-R2vvt77R"
   },
   "outputs": [],
   "source": []
  },
  {
   "cell_type": "code",
   "execution_count": 0,
   "metadata": {
    "colab": {},
    "colab_type": "code",
    "id": "uXriXeRvt75Z"
   },
   "outputs": [],
   "source": []
  },
  {
   "cell_type": "code",
   "execution_count": 0,
   "metadata": {
    "colab": {},
    "colab_type": "code",
    "id": "J89G4qJjt73R"
   },
   "outputs": [],
   "source": []
  },
  {
   "cell_type": "code",
   "execution_count": 0,
   "metadata": {
    "colab": {},
    "colab_type": "code",
    "id": "j6LeAdwRt71B"
   },
   "outputs": [],
   "source": []
  },
  {
   "cell_type": "code",
   "execution_count": 0,
   "metadata": {
    "colab": {},
    "colab_type": "code",
    "id": "cg0PVIylt7y1"
   },
   "outputs": [],
   "source": []
  },
  {
   "cell_type": "code",
   "execution_count": 0,
   "metadata": {
    "colab": {},
    "colab_type": "code",
    "id": "ZO2B3MaSt7we"
   },
   "outputs": [],
   "source": []
  },
  {
   "cell_type": "code",
   "execution_count": 0,
   "metadata": {
    "colab": {},
    "colab_type": "code",
    "id": "oOG09FTEt7uO"
   },
   "outputs": [],
   "source": []
  },
  {
   "cell_type": "code",
   "execution_count": 0,
   "metadata": {
    "colab": {},
    "colab_type": "code",
    "id": "EIOQXJu-t7sK"
   },
   "outputs": [],
   "source": []
  },
  {
   "cell_type": "code",
   "execution_count": 0,
   "metadata": {
    "colab": {},
    "colab_type": "code",
    "id": "bkjm3Hp3t7p-"
   },
   "outputs": [],
   "source": []
  }
 ],
 "metadata": {
  "colab": {
   "collapsed_sections": [],
   "name": "Autograd with tensors.ipynb",
   "provenance": [],
   "version": "0.3.2"
  },
  "kernelspec": {
   "display_name": "Python 3",
   "language": "python",
   "name": "python3"
  },
  "language_info": {
   "codemirror_mode": {
    "name": "ipython",
    "version": 3
   },
   "file_extension": ".py",
   "mimetype": "text/x-python",
   "name": "python",
   "nbconvert_exporter": "python",
   "pygments_lexer": "ipython3",
   "version": "3.6.13"
  }
 },
 "nbformat": 4,
 "nbformat_minor": 1
}
