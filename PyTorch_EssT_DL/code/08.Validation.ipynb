{
 "cells": [
  {
   "cell_type": "markdown",
   "metadata": {
    "colab_type": "text",
    "id": "gXmCHcwKs6rd"
   },
   "source": [
    "# Validation"
   ]
  },
  {
   "cell_type": "code",
   "execution_count": 1,
   "metadata": {
    "colab": {},
    "colab_type": "code",
    "id": "PzCCniVwNTdp"
   },
   "outputs": [],
   "source": [
    "# Setting seeds to try and ensure we have the same results - this is not guaranteed across PyTorch releases.\n",
    "import torch\n",
    "torch.manual_seed(0)\n",
    "torch.backends.cudnn.deterministic = True\n",
    "torch.backends.cudnn.benchmark = False\n",
    "\n",
    "import numpy as np\n",
    "np.random.seed(0)"
   ]
  },
  {
   "cell_type": "code",
   "execution_count": 2,
   "metadata": {
    "colab": {},
    "colab_type": "code",
    "id": "PCJzXv0OK1Bs"
   },
   "outputs": [],
   "source": [
    "from torchvision import datasets, transforms\n",
    "import torch.nn.functional as F\n",
    "from torch import nn\n",
    "\n",
    "mean, std = (0.5,), (0.5,)\n",
    "\n",
    "# Create a transform and normalise data\n",
    "transform = transforms.Compose([transforms.ToTensor(),\n",
    "                                transforms.Normalize(mean, std)\n",
    "                              ])\n",
    "\n",
    "# Download FMNIST training dataset and load training data\n",
    "trainset = datasets.FashionMNIST('~/.pytorch/FMNIST/', download=True, train=True, transform=transform)\n",
    "trainloader = torch.utils.data.DataLoader(trainset, batch_size=64, shuffle=True)\n",
    "\n",
    "# Download FMNIST test dataset and load test data\n",
    "testset = datasets.FashionMNIST('~/.pytorch/FMNIST/', download=True, train=False, transform=transform)\n",
    "testloader = torch.utils.data.DataLoader(testset, batch_size=64, shuffle=False)"
   ]
  },
  {
   "cell_type": "code",
   "execution_count": 3,
   "metadata": {
    "colab": {},
    "colab_type": "code",
    "id": "rqMqFbIVrbFH"
   },
   "outputs": [],
   "source": [
    "class FMNIST(nn.Module):\n",
    "  def __init__(self):\n",
    "    super().__init__()\n",
    "    self.fc1 = nn.Linear(784, 128)\n",
    "    self.fc2 = nn.Linear(128,64)\n",
    "    self.fc3 = nn.Linear(64,10)\n",
    "    \n",
    "  def forward(self, x):\n",
    "    x = x.view(x.shape[0], -1)\n",
    "    \n",
    "    x = F.relu(self.fc1(x))\n",
    "    x = F.relu(self.fc2(x))\n",
    "    x = self.fc3(x)\n",
    "    x = F.log_softmax(x, dim=1)\n",
    "    \n",
    "    return x\n",
    "\n",
    "model = FMNIST()"
   ]
  },
  {
   "cell_type": "code",
   "execution_count": 4,
   "metadata": {
    "colab": {},
    "colab_type": "code",
    "id": "oNNyI5YRZ7H1"
   },
   "outputs": [
    {
     "name": "stdout",
     "output_type": "stream",
     "text": [
      "Training loss: 1.0338177432192923\n",
      "Training loss: 0.5608134193143357\n",
      "Training loss: 0.49143493810950567\n"
     ]
    }
   ],
   "source": [
    "from torch import optim\n",
    "\n",
    "criterion = nn.NLLLoss()\n",
    "optimizer = optim.SGD(model.parameters(), lr=0.01)\n",
    "\n",
    "num_epochs = 3\n",
    "\n",
    "for i in range(num_epochs):\n",
    "    cum_loss = 0\n",
    "\n",
    "    for images, labels in trainloader:\n",
    "        optimizer.zero_grad()\n",
    "        output = model(images)\n",
    "        loss = criterion(output, labels)\n",
    "        loss.backward()\n",
    "        optimizer.step()\n",
    "        \n",
    "        cum_loss += loss.item()\n",
    "     \n",
    "    print(f\"Training loss: {cum_loss/len(trainloader)}\")"
   ]
  },
  {
   "cell_type": "code",
   "execution_count": 5,
   "metadata": {
    "colab": {},
    "colab_type": "code",
    "id": "UWYw7ZOzsS8U"
   },
   "outputs": [],
   "source": [
    "import matplotlib.pyplot as plt\n",
    "%matplotlib inline\n",
    "\n",
    "images, labels = next(iter(testloader))\n",
    "\n",
    "test_image_id = 0 \n",
    "img = images[test_image_id].view(1, 784) \n",
    "\n",
    "with torch.no_grad():\n",
    "    logps = model(img)"
   ]
  },
  {
   "cell_type": "code",
   "execution_count": 6,
   "metadata": {
    "colab": {},
    "colab_type": "code",
    "id": "2tRjoEDSqY8X"
   },
   "outputs": [
    {
     "data": {
      "text/plain": [
       "tensor([[1.4787e-06, 5.1537e-07, 8.3431e-06, 8.7248e-07, 5.9432e-06, 1.8999e-01,\n",
       "         4.7754e-06, 1.6158e-01, 4.3407e-03, 6.4407e-01]])"
      ]
     },
     "execution_count": 6,
     "metadata": {},
     "output_type": "execute_result"
    }
   ],
   "source": [
    "ps = torch.exp(logps)\n",
    "ps"
   ]
  },
  {
   "cell_type": "code",
   "execution_count": 7,
   "metadata": {
    "colab": {},
    "colab_type": "code",
    "id": "dpP_RLV-qkc6"
   },
   "outputs": [
    {
     "data": {
      "text/plain": [
       "array([1.4786525e-06, 5.1537370e-07, 8.3430532e-06, 8.7248321e-07,\n",
       "       5.9432150e-06, 1.8999216e-01, 4.7754206e-06, 1.6157575e-01,\n",
       "       4.3407455e-03, 6.4406943e-01], dtype=float32)"
      ]
     },
     "execution_count": 7,
     "metadata": {},
     "output_type": "execute_result"
    }
   ],
   "source": [
    "nps = ps.numpy()[0]\n",
    "nps"
   ]
  },
  {
   "cell_type": "code",
   "execution_count": 8,
   "metadata": {
    "colab": {},
    "colab_type": "code",
    "id": "kBf23XrtqrB6"
   },
   "outputs": [
    {
     "data": {
      "text/plain": [
       "<BarContainer object of 10 artists>"
      ]
     },
     "execution_count": 8,
     "metadata": {},
     "output_type": "execute_result"
    },
    {
     "data": {
      "image/png": "[encoded data removed]",
      "text/plain": [
       "<Figure size 432x288 with 1 Axes>"
      ]
     },
     "metadata": {
      "needs_background": "light"
     },
     "output_type": "display_data"
    }
   ],
   "source": [
    "FMNIST_labels = ['T-shirt/top','Trouser','Pullover','Dress','Coat','Sandal','Shirt','Sport Shoes','Bag','Ankle Boots']\n",
    "plt.xticks(np.arange(10),labels=FMNIST_labels,rotation='vertical')\n",
    "plt.bar(np.arange(10), nps)"
   ]
  },
  {
   "cell_type": "code",
   "execution_count": 9,
   "metadata": {
    "colab": {},
    "colab_type": "code",
    "id": "Y7gY5hARpOp4"
   },
   "outputs": [
    {
     "data": {
      "text/plain": [
       "<matplotlib.image.AxesImage at 0x7fe2e3580d30>"
      ]
     },
     "execution_count": 9,
     "metadata": {},
     "output_type": "execute_result"
    },
    {
     "data": {
      "image/png": "[encoded data removed]",
      "text/plain": [
       "<Figure size 432x288 with 1 Axes>"
      ]
     },
     "metadata": {
      "needs_background": "light"
     },
     "output_type": "display_data"
    }
   ],
   "source": [
    "def denormalize(tensor):\n",
    "  tensor = tensor*0.5 + 0.5\n",
    "  return tensor\n",
    "  \n",
    "img = img.view(28,-1)\n",
    "img = denormalize(img)\n",
    "plt.imshow(img,cmap='gray')"
   ]
  },
  {
   "cell_type": "code",
   "execution_count": 10,
   "metadata": {
    "colab": {},
    "colab_type": "code",
    "id": "AxTiil7cXOAz"
   },
   "outputs": [
    {
     "name": "stdout",
     "output_type": "stream",
     "text": [
      "tensor([[1.4787e-06, 5.1537e-07, 8.3431e-06, 8.7248e-07, 5.9432e-06, 1.8999e-01,\n",
      "         4.7754e-06, 1.6158e-01, 4.3407e-03, 6.4407e-01],\n",
      "        [1.2095e-03, 4.7547e-05, 9.0694e-01, 1.9332e-04, 2.3503e-02, 1.1295e-05,\n",
      "         6.6949e-02, 9.6613e-09, 1.1418e-03, 5.0548e-07],\n",
      "        [1.1591e-05, 9.9983e-01, 2.9635e-05, 7.5339e-05, 5.5959e-05, 2.3393e-08,\n",
      "         1.2227e-07, 4.7421e-07, 4.7005e-09, 9.1922e-09],\n",
      "        [3.1152e-06, 9.9961e-01, 3.7383e-05, 3.0556e-04, 3.7357e-05, 1.6312e-07,\n",
      "         9.5714e-08, 1.9866e-06, 9.4656e-09, 5.5269e-08],\n",
      "        [1.1157e-01, 6.7073e-04, 1.7919e-01, 1.2622e-02, 1.5333e-02, 3.0339e-04,\n",
      "         6.6984e-01, 1.5478e-06, 1.0454e-02, 1.5171e-05],\n",
      "        [1.5485e-03, 9.8682e-01, 9.1340e-04, 1.9438e-03, 8.6747e-03, 5.6687e-07,\n",
      "         9.2295e-05, 4.4265e-06, 1.5577e-06, 2.6561e-07],\n",
      "        [1.0708e-02, 1.0734e-03, 5.5052e-02, 6.7131e-04, 7.9329e-01, 1.1967e-04,\n",
      "         1.3719e-01, 7.8903e-07, 1.8945e-03, 1.2114e-06],\n",
      "        [5.7440e-03, 3.8829e-04, 9.5125e-02, 2.3161e-03, 2.1548e-01, 5.0515e-04,\n",
      "         6.6536e-01, 7.3653e-07, 1.5078e-02, 7.2351e-06],\n",
      "        [1.0524e-02, 3.7730e-03, 2.3674e-02, 1.5100e-02, 6.4126e-03, 8.0028e-01,\n",
      "         1.2720e-02, 1.0080e-01, 2.5068e-02, 1.6421e-03],\n",
      "        [1.6393e-05, 1.2666e-05, 2.0392e-05, 3.9350e-05, 5.6314e-05, 3.1056e-02,\n",
      "         1.2562e-05, 9.6330e-01, 1.9475e-03, 3.5406e-03],\n",
      "        [6.4893e-04, 1.2997e-02, 3.4735e-01, 1.0035e-03, 5.8597e-01, 5.3153e-05,\n",
      "         5.1683e-02, 3.2026e-07, 2.8890e-04, 4.1595e-06],\n",
      "        [6.6800e-05, 3.4168e-05, 7.7262e-04, 3.8737e-05, 3.1484e-04, 8.4150e-01,\n",
      "         2.5597e-04, 7.8261e-02, 1.1824e-02, 6.6930e-02],\n",
      "        [2.3599e-04, 1.4813e-04, 2.5678e-03, 1.3236e-03, 1.7059e-03, 8.6579e-01,\n",
      "         7.3778e-04, 5.1828e-02, 7.4387e-02, 1.2780e-03],\n",
      "        [1.8656e-03, 4.6278e-03, 2.6352e-04, 9.9061e-01, 2.5275e-04, 5.8177e-06,\n",
      "         2.8184e-04, 1.3672e-03, 6.9525e-04, 2.8650e-05],\n",
      "        [3.6755e-04, 9.5670e-05, 1.8966e-02, 9.3107e-04, 9.0633e-01, 7.6580e-06,\n",
      "         6.2040e-02, 2.7971e-07, 1.1259e-02, 2.6246e-06],\n",
      "        [2.1518e-04, 9.8769e-01, 5.7461e-04, 1.0937e-02, 5.5600e-04, 9.2844e-07,\n",
      "         1.4735e-05, 1.1997e-05, 6.1652e-07, 5.6983e-07],\n",
      "        [7.3874e-02, 9.7239e-03, 7.3480e-01, 4.7260e-03, 3.1595e-02, 6.1371e-04,\n",
      "         1.4344e-01, 1.1584e-06, 1.2205e-03, 6.8251e-06],\n",
      "        [2.2874e-02, 2.1162e-04, 2.7355e-01, 2.1093e-03, 2.0109e-01, 6.3747e-05,\n",
      "         4.8307e-01, 3.3096e-07, 1.7023e-02, 5.3747e-06],\n",
      "        [3.1795e-04, 3.6285e-06, 2.2356e-03, 3.4141e-05, 1.6251e-03, 9.5632e-03,\n",
      "         1.7883e-03, 1.1217e-03, 9.8103e-01, 2.2816e-03],\n",
      "        [9.5180e-01, 5.5221e-05, 2.9213e-03, 3.5591e-03, 8.4858e-05, 1.0987e-07,\n",
      "         4.1511e-02, 6.5044e-09, 6.4853e-05, 1.3873e-08],\n",
      "        [3.9817e-01, 1.1926e-02, 2.4743e-01, 2.5265e-02, 3.5623e-02, 1.4523e-03,\n",
      "         2.5953e-01, 7.9155e-05, 1.9974e-02, 5.4787e-04],\n",
      "        [2.8565e-05, 7.1428e-05, 3.2276e-04, 1.3411e-04, 4.0991e-04, 5.3461e-01,\n",
      "         6.3257e-05, 4.4590e-01, 1.2152e-02, 6.3039e-03],\n",
      "        [7.9727e-08, 5.0180e-07, 9.1982e-07, 6.7345e-07, 2.4494e-06, 2.3959e-02,\n",
      "         1.0548e-07, 9.5562e-01, 6.5615e-04, 1.9757e-02],\n",
      "        [5.2638e-06, 4.1989e-06, 1.8748e-05, 6.4209e-06, 1.3614e-05, 4.0593e-01,\n",
      "         4.5854e-06, 5.0855e-01, 2.0029e-03, 8.3466e-02],\n",
      "        [3.4744e-06, 9.9971e-01, 2.0539e-05, 2.3500e-04, 2.9238e-05, 1.8801e-07,\n",
      "         5.9110e-08, 3.9981e-06, 1.0659e-08, 5.1157e-08],\n",
      "        [5.5694e-03, 2.7269e-03, 7.9572e-01, 1.0087e-02, 5.4868e-02, 3.9639e-03,\n",
      "         1.1716e-01, 4.1992e-06, 9.8921e-03, 1.1377e-05],\n",
      "        [1.1496e-03, 9.5370e-05, 9.2389e-02, 5.1572e-04, 4.1925e-01, 2.5707e-05,\n",
      "         4.8070e-01, 5.1470e-08, 5.8707e-03, 3.4275e-06],\n",
      "        [4.8893e-01, 1.7795e-02, 8.2665e-03, 4.2215e-01, 1.8625e-02, 3.5086e-07,\n",
      "         4.3817e-02, 4.0107e-06, 4.1128e-04, 5.9106e-07],\n",
      "        [3.0352e-07, 7.6897e-08, 1.0161e-06, 1.3487e-07, 9.9385e-07, 2.3556e-02,\n",
      "         5.8683e-07, 1.1655e-01, 2.5299e-03, 8.5737e-01],\n",
      "        [8.4089e-02, 1.5794e-03, 7.9647e-03, 2.5341e-01, 3.8030e-01, 2.3182e-06,\n",
      "         2.5936e-01, 1.2160e-05, 1.3277e-02, 3.3802e-06],\n",
      "        [3.3686e-06, 9.3544e-08, 7.1390e-05, 1.2446e-05, 3.3634e-04, 8.3282e-04,\n",
      "         1.0052e-04, 1.4839e-04, 9.9838e-01, 1.1503e-04],\n",
      "        [9.1866e-03, 1.3162e-05, 5.5215e-03, 1.7397e-02, 2.0432e-03, 8.2015e-04,\n",
      "         2.1626e-02, 4.4937e-05, 9.4331e-01, 3.7762e-05],\n",
      "        [1.3720e-02, 1.0489e-02, 7.2339e-03, 9.3446e-01, 7.5196e-03, 6.3851e-04,\n",
      "         1.1526e-02, 2.1521e-03, 1.2125e-02, 1.3842e-04],\n",
      "        [5.8030e-02, 4.9941e-04, 1.4697e-02, 8.7353e-01, 5.3065e-03, 8.0730e-07,\n",
      "         4.4325e-02, 4.3635e-06, 3.6088e-03, 5.6597e-07],\n",
      "        [2.0451e-04, 3.3087e-06, 6.0514e-03, 1.1791e-03, 9.3182e-04, 4.7108e-03,\n",
      "         2.3483e-03, 8.9130e-05, 9.8443e-01, 4.8077e-05],\n",
      "        [7.2469e-01, 4.0436e-04, 2.1745e-02, 2.3483e-02, 1.3667e-03, 4.3299e-05,\n",
      "         2.2655e-01, 1.3208e-06, 1.7091e-03, 1.3178e-06],\n",
      "        [3.9588e-06, 1.2311e-05, 6.1755e-06, 8.3376e-06, 2.8941e-05, 1.7035e-02,\n",
      "         2.8354e-06, 9.7705e-01, 4.6980e-04, 5.3855e-03],\n",
      "        [1.6038e-03, 3.0932e-04, 3.3749e-03, 1.4166e-03, 6.3066e-04, 9.5646e-01,\n",
      "         3.0529e-03, 2.6971e-02, 5.0847e-03, 1.1001e-03],\n",
      "        [2.0783e-06, 1.1164e-05, 1.1626e-05, 5.5599e-06, 4.9679e-05, 1.7060e-02,\n",
      "         2.2253e-06, 9.7673e-01, 8.3679e-04, 5.2939e-03],\n",
      "        [1.8586e-08, 3.5848e-09, 5.5244e-08, 4.0889e-09, 3.3669e-08, 2.5103e-03,\n",
      "         4.9062e-08, 7.5032e-03, 1.7780e-04, 9.8981e-01],\n",
      "        [6.5819e-01, 7.5912e-06, 1.7154e-03, 3.5606e-03, 9.4231e-04, 7.1136e-08,\n",
      "         3.3503e-01, 1.0380e-08, 5.5670e-04, 7.1429e-08],\n",
      "        [5.0509e-06, 9.9976e-01, 1.6977e-05, 1.4520e-04, 6.8896e-05, 3.6974e-08,\n",
      "         1.0873e-07, 5.9093e-06, 5.8532e-09, 1.1246e-07],\n",
      "        [2.0299e-01, 5.3632e-03, 5.5534e-02, 2.4187e-01, 2.0709e-01, 4.5502e-06,\n",
      "         2.7951e-01, 2.1320e-06, 7.6295e-03, 7.3750e-07],\n",
      "        [7.0145e-08, 2.8162e-08, 1.2984e-07, 1.3069e-08, 9.4711e-08, 1.7783e-02,\n",
      "         6.8926e-08, 1.4501e-01, 9.8639e-05, 8.3711e-01],\n",
      "        [3.5444e-03, 5.9643e-05, 1.1123e-01, 1.9831e-03, 2.2957e-01, 4.6176e-06,\n",
      "         6.4973e-01, 1.1808e-08, 3.8734e-03, 2.2260e-07],\n",
      "        [2.3580e-04, 3.2473e-05, 4.2852e-04, 8.9847e-05, 1.8563e-04, 6.7599e-01,\n",
      "         4.5774e-04, 2.1035e-01, 1.8487e-02, 9.3744e-02],\n",
      "        [2.9514e-02, 7.2293e-04, 7.3896e-01, 4.4059e-03, 2.1978e-02, 5.3937e-05,\n",
      "         2.0131e-01, 1.3648e-07, 3.0513e-03, 4.0114e-06],\n",
      "        [6.2266e-04, 9.5993e-01, 6.2538e-04, 3.7382e-02, 1.3389e-03, 5.0443e-07,\n",
      "         2.8867e-05, 6.3711e-05, 1.8544e-06, 1.6344e-06],\n",
      "        [1.4428e-03, 2.2714e-02, 5.6466e-01, 8.1864e-03, 3.6353e-01, 4.5687e-04,\n",
      "         3.7318e-02, 3.2154e-06, 1.6818e-03, 7.0084e-06],\n",
      "        [6.1851e-03, 1.2917e-04, 1.8975e-01, 2.3631e-03, 8.6338e-02, 5.9827e-05,\n",
      "         7.0629e-01, 8.9110e-08, 8.8813e-03, 2.7714e-06],\n",
      "        [1.2251e-02, 3.6100e-04, 2.3469e-01, 1.2301e-03, 4.2015e-01, 9.2570e-05,\n",
      "         3.1409e-01, 5.9003e-07, 1.7118e-02, 9.1052e-06],\n",
      "        [6.3498e-03, 7.8642e-04, 6.6275e-01, 2.3695e-03, 5.1301e-02, 2.0552e-03,\n",
      "         2.6928e-01, 7.1801e-07, 5.1031e-03, 3.5192e-06],\n",
      "        [2.9565e-03, 1.5292e-03, 7.1929e-03, 3.5307e-03, 1.1421e-03, 8.7466e-01,\n",
      "         3.3409e-03, 9.1595e-02, 6.8384e-03, 7.2114e-03],\n",
      "        [4.1810e-02, 1.0988e-04, 8.9100e-02, 2.0897e-03, 2.2459e-02, 3.2197e-03,\n",
      "         4.9957e-01, 1.3131e-05, 3.4044e-01, 1.1871e-03],\n",
      "        [1.0743e-02, 2.2527e-02, 5.6034e-01, 2.3751e-02, 3.2671e-01, 6.1267e-05,\n",
      "         5.3638e-02, 1.5482e-06, 2.2252e-03, 1.7878e-06],\n",
      "        [5.7772e-02, 1.3634e-03, 8.4260e-01, 2.5090e-03, 8.2840e-03, 1.3530e-04,\n",
      "         8.4770e-02, 3.2170e-07, 2.5600e-03, 8.5131e-06],\n",
      "        [1.9364e-04, 3.5008e-07, 6.0468e-04, 1.8694e-05, 2.0175e-03, 2.9613e-04,\n",
      "         1.2326e-03, 6.4421e-05, 9.9552e-01, 4.7993e-05],\n",
      "        [5.8200e-04, 2.9470e-04, 3.8249e-01, 1.3897e-03, 4.5667e-01, 4.7740e-05,\n",
      "         1.5328e-01, 1.4963e-07, 5.2524e-03, 1.9052e-06],\n",
      "        [1.5234e-04, 2.0334e-07, 5.4054e-04, 1.0304e-05, 7.5254e-04, 5.5096e-04,\n",
      "         1.0214e-03, 7.7473e-05, 9.9683e-01, 6.8405e-05],\n",
      "        [8.2138e-01, 8.8006e-03, 3.9306e-02, 1.9963e-02, 3.3541e-03, 1.7705e-04,\n",
      "         1.0634e-01, 1.1374e-05, 6.5744e-04, 8.4787e-06],\n",
      "        [1.5250e-06, 2.7884e-06, 3.8053e-06, 3.9536e-06, 8.2572e-06, 2.6035e-02,\n",
      "         1.1206e-06, 9.6934e-01, 3.1605e-04, 4.2862e-03],\n",
      "        [5.0566e-07, 9.1161e-07, 2.8645e-06, 2.2732e-06, 6.5759e-06, 5.9316e-02,\n",
      "         8.1700e-07, 8.8419e-01, 2.6085e-03, 5.3867e-02],\n",
      "        [7.6992e-07, 9.1484e-07, 1.2697e-04, 9.8132e-06, 7.3205e-04, 8.9034e-03,\n",
      "         2.2382e-05, 4.7483e-03, 9.8242e-01, 3.0384e-03],\n",
      "        [3.9020e-04, 6.3448e-05, 1.3758e-03, 1.9936e-04, 2.4160e-04, 9.7847e-01,\n",
      "         1.0281e-03, 9.8364e-03, 5.0961e-03, 3.2969e-03]])\n"
     ]
    }
   ],
   "source": [
    "with torch.no_grad():\n",
    "    num_correct = 0\n",
    "    total = 0\n",
    "\n",
    "    cnt = 0\n",
    "    for images, labels in testloader:\n",
    "        \n",
    "        logps = model(images)\n",
    "        output = torch.exp(logps)\n",
    "        print(output)\n",
    "        cnt+=1\n",
    "        \n",
    "        if cnt > 0:\n",
    "          break"
   ]
  },
  {
   "cell_type": "code",
   "execution_count": 11,
   "metadata": {
    "colab": {},
    "colab_type": "code",
    "id": "6Ij_wa7paveM"
   },
   "outputs": [],
   "source": [
    "with torch.no_grad():\n",
    "    num_correct = 0\n",
    "    total = 0\n",
    "\n",
    "    #set_trace()\n",
    "    for images, labels in testloader:\n",
    "        \n",
    "        logps = model(images)\n",
    "        output = torch.exp(logps)\n",
    "        \n",
    "        pred = torch.argmax(output, 1)\n",
    "        total += labels.size(0)\n"
   ]
  },
  {
   "cell_type": "code",
   "execution_count": 12,
   "metadata": {
    "colab": {},
    "colab_type": "code",
    "id": "nyxadgAyiRqg"
   },
   "outputs": [
    {
     "data": {
      "text/plain": [
       "(tensor([3, 3, 7, 5, 8, 4, 5, 6, 8, 9, 1, 9, 1, 8, 1, 5]),\n",
       " tensor([3, 2, 7, 5, 8, 4, 5, 6, 8, 9, 1, 9, 1, 8, 1, 5]))"
      ]
     },
     "execution_count": 12,
     "metadata": {},
     "output_type": "execute_result"
    }
   ],
   "source": [
    "pred, labels"
   ]
  },
  {
   "cell_type": "code",
   "execution_count": 13,
   "metadata": {
    "colab": {},
    "colab_type": "code",
    "id": "ojLPwZLdi3OX"
   },
   "outputs": [
    {
     "data": {
      "text/plain": [
       "tensor([ True, False,  True,  True,  True,  True,  True,  True,  True,  True,\n",
       "         True,  True,  True,  True,  True,  True])"
      ]
     },
     "execution_count": 13,
     "metadata": {},
     "output_type": "execute_result"
    }
   ],
   "source": [
    "pred == labels"
   ]
  },
  {
   "cell_type": "code",
   "execution_count": 14,
   "metadata": {
    "colab": {},
    "colab_type": "code",
    "id": "6V-3r9n-iCMb"
   },
   "outputs": [
    {
     "name": "stdout",
     "output_type": "stream",
     "text": [
      "Accuracy of the model on the 10000 test images: 81.73% \n"
     ]
    }
   ],
   "source": [
    "with torch.no_grad():\n",
    "    num_correct = 0\n",
    "    total = 0\n",
    "\n",
    "    #set_trace()\n",
    "    for images, labels in testloader:\n",
    "        \n",
    "        logps = model(images)\n",
    "        output = torch.exp(logps)\n",
    "        \n",
    "        pred = torch.argmax(output, 1)\n",
    "        total += labels.size(0)\n",
    "        num_correct += (pred == labels).sum().item()\n",
    "\n",
    "    print(f'Accuracy of the model on the 10000 test images: {num_correct * 100 / total}% ')"
   ]
  },
  {
   "cell_type": "code",
   "execution_count": 0,
   "metadata": {
    "colab": {},
    "colab_type": "code",
    "id": "2VNQH0g6F8xH"
   },
   "outputs": [],
   "source": []
  }
 ],
 "metadata": {
  "colab": {
   "collapsed_sections": [],
   "name": "04_03_validation.ipynb",
   "provenance": [],
   "version": "0.3.2"
  },
  "kernelspec": {
   "display_name": "Python 3",
   "language": "python",
   "name": "python3"
  },
  "language_info": {
   "codemirror_mode": {
    "name": "ipython",
    "version": 3
   },
   "file_extension": ".py",
   "mimetype": "text/x-python",
   "name": "python",
   "nbconvert_exporter": "python",
   "pygments_lexer": "ipython3",
   "version": "3.6.13"
  }
 },
 "nbformat": 4,
 "nbformat_minor": 1
}
