{
 "cells": [
  {
   "cell_type": "markdown",
   "metadata": {
    "colab_type": "text",
    "id": "gXmCHcwKs6rd"
   },
   "source": [
    "# PyTorch playground"
   ]
  },
  {
   "cell_type": "code",
   "execution_count": 1,
   "metadata": {
    "colab": {},
    "colab_type": "code",
    "id": "PzCCniVwNTdp"
   },
   "outputs": [],
   "source": [
    "# Setting seeds to try and ensure we have the same results - this is not guaranteed across PyTorch releases.\n",
    "import torch\n",
    "torch.manual_seed(0)\n",
    "torch.backends.cudnn.deterministic = True\n",
    "torch.backends.cudnn.benchmark = False\n",
    "\n",
    "import numpy as np\n",
    "np.random.seed(0)"
   ]
  },
  {
   "cell_type": "code",
   "execution_count": 2,
   "metadata": {
    "colab": {
     "base_uri": "https://localhost:8080/",
     "height": 34
    },
    "colab_type": "code",
    "id": "fQLW-HL7_0pT",
    "outputId": "a2347d9a-bd38-4fa5-b11a-6c2ae5767134"
   },
   "outputs": [
    {
     "name": "stdout",
     "output_type": "stream",
     "text": [
      "cuda\n"
     ]
    }
   ],
   "source": [
    "device = torch.device(\"cuda\" if torch.cuda.is_available() else \"cpu\")\n",
    "print(device)\n"
   ]
  },
  {
   "cell_type": "code",
   "execution_count": 3,
   "metadata": {
    "colab": {},
    "colab_type": "code",
    "id": "PCJzXv0OK1Bs"
   },
   "outputs": [],
   "source": [
    "from torchvision import datasets, transforms\n",
    "import torch.nn.functional as F\n",
    "from torch import nn\n",
    "\n",
    "mean, std = (0.5,), (0.5,)\n",
    "\n",
    "# Create a transform and normalise data\n",
    "transform = transforms.Compose([transforms.ToTensor(),\n",
    "                                transforms.Normalize(mean, std)\n",
    "                              ])\n",
    "\n",
    "# Download FMNIST training dataset and load training data\n",
    "trainset = datasets.FashionMNIST('~/.pytorch/FMNIST/', download=True, train=True, transform=transform)\n",
    "trainloader = torch.utils.data.DataLoader(trainset, batch_size=64, shuffle=True)\n",
    "\n",
    "# Download FMNIST test dataset and load test data\n",
    "testset = datasets.FashionMNIST('~/.pytorch/FMNIST/', download=True, train=False, transform=transform)\n",
    "testloader = torch.utils.data.DataLoader(testset, batch_size=64, shuffle=False)"
   ]
  },
  {
   "cell_type": "code",
   "execution_count": 4,
   "metadata": {
    "colab": {},
    "colab_type": "code",
    "id": "rqMqFbIVrbFH"
   },
   "outputs": [],
   "source": [
    "class FMNIST(nn.Module):\n",
    "  def __init__(self):\n",
    "    super().__init__()\n",
    "    self.fc1 = nn.Linear(784, 128)\n",
    "    self.fc2 = nn.Linear(128,64)\n",
    "    self.fc3 = nn.Linear(64,10)\n",
    "    \n",
    "  def forward(self, x):\n",
    "    x = x.view(x.shape[0], -1)\n",
    "    \n",
    "    x = F.relu(self.fc1(x))\n",
    "    x = F.relu(self.fc2(x))\n",
    "    x = self.fc3(x)\n",
    "    x = F.log_softmax(x, dim=1)\n",
    "    \n",
    "    return x\n",
    "\n",
    "model = FMNIST()"
   ]
  },
  {
   "cell_type": "code",
   "execution_count": 5,
   "metadata": {
    "colab": {
     "base_uri": "https://localhost:8080/",
     "height": 102
    },
    "colab_type": "code",
    "id": "67eZUNEM5b7n",
    "outputId": "65d086ff-3a03-4cee-addd-315c55d7b626"
   },
   "outputs": [
    {
     "data": {
      "text/plain": [
       "FMNIST(\n",
       "  (fc1): Linear(in_features=784, out_features=128, bias=True)\n",
       "  (fc2): Linear(in_features=128, out_features=64, bias=True)\n",
       "  (fc3): Linear(in_features=64, out_features=10, bias=True)\n",
       ")"
      ]
     },
     "execution_count": 5,
     "metadata": {},
     "output_type": "execute_result"
    }
   ],
   "source": [
    "model.to(device)"
   ]
  },
  {
   "cell_type": "markdown",
   "metadata": {
    "colab_type": "text",
    "id": "XPdDu7KfWEfW"
   },
   "source": [
    "- The only change we have made to the code is that we are going to track the training loss, the testing loss and the accuracy across the 30 epochs.\n",
    "- We'll print out the train loss, the test loss and the accuracy after each epoch.\n",
    "- Because we are running this over 30 epochs this will take a bit longer to run - approx 15 minutes."
   ]
  },
  {
   "cell_type": "code",
   "execution_count": 6,
   "metadata": {
    "colab": {
     "base_uri": "https://localhost:8080/",
     "height": 578
    },
    "colab_type": "code",
    "id": "VJLzWi0UqGWm",
    "outputId": "77ce05a3-3f82-4cef-cefc-8a43c4ddbafb"
   },
   "outputs": [
    {
     "name": "stdout",
     "output_type": "stream",
     "text": [
      "Epoch(1/30) | Training loss: 1.0338195378719361 | Test loss: 0.6439386558760504 | Accuracy : 0.7647\n",
      "Epoch(2/30) | Training loss: 0.5606844951031305 | Test loss: 0.5492816337734271 | Accuracy : 0.802\n",
      "Epoch(3/30) | Training loss: 0.49156871612773523 | Test loss: 0.505083708246802 | Accuracy : 0.8147\n",
      "Epoch(4/30) | Training loss: 0.45535944073375606 | Test loss: 0.47850244943123715 | Accuracy : 0.8273\n",
      "Epoch(5/30) | Training loss: 0.43238171620536714 | Test loss: 0.4571692293426793 | Accuracy : 0.8342\n",
      "Epoch(6/30) | Training loss: 0.41501693935917894 | Test loss: 0.4554484213233753 | Accuracy : 0.8359\n",
      "Epoch(7/30) | Training loss: 0.4009678918066055 | Test loss: 0.4328639694270055 | Accuracy : 0.8437\n",
      "Epoch(8/30) | Training loss: 0.3890379258373907 | Test loss: 0.42392987800631554 | Accuracy : 0.8464\n",
      "Epoch(9/30) | Training loss: 0.37747210658181196 | Test loss: 0.42536262579404627 | Accuracy : 0.8493\n",
      "Epoch(10/30) | Training loss: 0.36871400176843344 | Test loss: 0.40581763056433123 | Accuracy : 0.8549\n",
      "Epoch(11/30) | Training loss: 0.3610050982471976 | Test loss: 0.40105674278204606 | Accuracy : 0.8545\n",
      "Epoch(12/30) | Training loss: 0.3525263017365165 | Test loss: 0.4032504335520374 | Accuracy : 0.8566\n",
      "Epoch(13/30) | Training loss: 0.34529262136167554 | Test loss: 0.3908671355171568 | Accuracy : 0.8602\n",
      "Epoch(14/30) | Training loss: 0.33896685660139586 | Test loss: 0.38890852223915656 | Accuracy : 0.8581\n",
      "Epoch(15/30) | Training loss: 0.33265762062850535 | Test loss: 0.40259298046303404 | Accuracy : 0.8558\n",
      "Epoch(16/30) | Training loss: 0.3265559065666026 | Test loss: 0.38376253976184094 | Accuracy : 0.8643\n",
      "Epoch(17/30) | Training loss: 0.32125465328028713 | Test loss: 0.37439658526022723 | Accuracy : 0.8675\n",
      "Epoch(18/30) | Training loss: 0.3162815815159507 | Test loss: 0.37687175782622806 | Accuracy : 0.8623\n",
      "Epoch(19/30) | Training loss: 0.3119602080331301 | Test loss: 0.3759448846244508 | Accuracy : 0.8654\n",
      "Epoch(20/30) | Training loss: 0.3062427529076269 | Test loss: 0.36746479494936146 | Accuracy : 0.8719\n",
      "Epoch(21/30) | Training loss: 0.3018897419163922 | Test loss: 0.3654852734439692 | Accuracy : 0.8713\n",
      "Epoch(22/30) | Training loss: 0.2971742004712126 | Test loss: 0.36120736200338716 | Accuracy : 0.8723\n",
      "Epoch(23/30) | Training loss: 0.2933028267343034 | Test loss: 0.3639230521241571 | Accuracy : 0.8716\n",
      "Epoch(24/30) | Training loss: 0.2884539625823879 | Test loss: 0.37388847474079984 | Accuracy : 0.8663\n",
      "Epoch(25/30) | Training loss: 0.28422553362304975 | Test loss: 0.3529462842804611 | Accuracy : 0.8729\n",
      "Epoch(26/30) | Training loss: 0.2810622005622143 | Test loss: 0.3467212807221018 | Accuracy : 0.8777\n",
      "Epoch(27/30) | Training loss: 0.2766258357160254 | Test loss: 0.3643888545453928 | Accuracy : 0.8709\n",
      "Epoch(28/30) | Training loss: 0.27288238796343933 | Test loss: 0.34760975087903867 | Accuracy : 0.8751\n",
      "Epoch(29/30) | Training loss: 0.2694765322529939 | Test loss: 0.3701401515181657 | Accuracy : 0.8716\n",
      "Epoch(30/30) | Training loss: 0.26564215835350663 | Test loss: 0.36277100178086835 | Accuracy : 0.8692\n",
      "\n",
      "Number correct : 8692, Total : 10000\n",
      "Accuracy of the model after 30 epochs on the 10000 test images: 86.92% \n"
     ]
    }
   ],
   "source": [
    "from torch import optim\n",
    "criterion = nn.NLLLoss()\n",
    "optimizer = optim.SGD(model.parameters(), lr=0.01)\n",
    "\n",
    "num_epochs = 30\n",
    "train_tracker, test_tracker, accuracy_tracker = [], [], []\n",
    "\n",
    "\n",
    "for i in range(num_epochs):\n",
    "    cum_loss = 0\n",
    "    \n",
    "    for batch, (images, labels) in enumerate(trainloader,1):\n",
    "        images = images.to(device)\n",
    "        labels = labels.to(device)\n",
    "        \n",
    "        optimizer.zero_grad()\n",
    "        output = model(images)\n",
    "        loss = criterion(output, labels)\n",
    "        loss.backward()\n",
    "        optimizer.step()\n",
    "        \n",
    "        cum_loss += loss.item()\n",
    "    \n",
    "    train_tracker.append(cum_loss/len(trainloader))\n",
    "    print(f\"Epoch({i+1}/{num_epochs}) | Training loss: {cum_loss/len(trainloader)} | \",end='')\n",
    "    \n",
    "    test_loss = 0\n",
    "    num_correct = 0\n",
    "    total = 0\n",
    "    \n",
    "    for batch, (images, labels) in enumerate(testloader,1):\n",
    "        images = images.to(device)\n",
    "        labels = labels.to(device)\n",
    "        \n",
    "        logps = model(images)\n",
    "        batch_loss = criterion(logps, labels)        \n",
    "        test_loss += batch_loss.item()\n",
    "        \n",
    "        output = torch.exp(logps)\n",
    "        pred = torch.argmax(output, 1)\n",
    "        total += labels.size(0)\n",
    "        num_correct += (pred == labels).sum().item()\n",
    "    \n",
    "    test_tracker.append(test_loss/len(testloader))\n",
    "    print(f\"Test loss: {test_loss/len(testloader)} | \", end='')\n",
    "    accuracy_tracker.append(num_correct/total)\n",
    "    print(f'Accuracy : {num_correct/total}')        \n",
    "print(f'\\nNumber correct : {num_correct}, Total : {total}')\n",
    "print(f'Accuracy of the model after 30 epochs on the 10000 test images: {num_correct * 100 / total}% ')\n",
    "    \n",
    "    "
   ]
  },
  {
   "cell_type": "markdown",
   "metadata": {
    "colab_type": "text",
    "id": "IqNpkYO6V9YI"
   },
   "source": [
    "- Has the accuracy of the model increased?\n",
    "- Now plot the training loss vs the test loss over 30 epochs."
   ]
  },
  {
   "cell_type": "code",
   "execution_count": 7,
   "metadata": {
    "colab": {
     "base_uri": "https://localhost:8080/",
     "height": 286
    },
    "colab_type": "code",
    "id": "89a8FdTi-cNM",
    "outputId": "82701451-7413-4c00-d4e7-24f0e375a4c2"
   },
   "outputs": [
    {
     "data": {
      "text/plain": [
       "<matplotlib.legend.Legend at 0x7fb29c054898>"
      ]
     },
     "execution_count": 7,
     "metadata": {},
     "output_type": "execute_result"
    },
    {
     "data": {
      "image/png": "[encoded data removed]",
      "text/plain": [
       "<Figure size 432x288 with 1 Axes>"
      ]
     },
     "metadata": {
      "needs_background": "light"
     },
     "output_type": "display_data"
    }
   ],
   "source": [
    "import matplotlib.pyplot as plt\n",
    "%matplotlib inline\n",
    "plt.plot(train_tracker, label='Training loss')\n",
    "plt.plot(test_tracker, label='Test loss')\n",
    "plt.legend()"
   ]
  },
  {
   "cell_type": "markdown",
   "metadata": {
    "colab_type": "text",
    "id": "DHtKTHKKjG3r"
   },
   "source": [
    "- Now add the accuracy to the mix."
   ]
  },
  {
   "cell_type": "code",
   "execution_count": 8,
   "metadata": {
    "colab": {
     "base_uri": "https://localhost:8080/",
     "height": 286
    },
    "colab_type": "code",
    "id": "AJgyMHm2Pvx5",
    "outputId": "881d9ce0-19cd-4991-86a1-2d014ee00735"
   },
   "outputs": [
    {
     "data": {
      "text/plain": [
       "<matplotlib.legend.Legend at 0x7fb297f59f28>"
      ]
     },
     "execution_count": 8,
     "metadata": {},
     "output_type": "execute_result"
    },
    {
     "data": {
      "image/png": "[encoded data removed]",
      "text/plain": [
       "<Figure size 432x288 with 1 Axes>"
      ]
     },
     "metadata": {
      "needs_background": "light"
     },
     "output_type": "display_data"
    }
   ],
   "source": [
    "import matplotlib.pyplot as plt\n",
    "%matplotlib inline\n",
    "plt.plot(train_tracker, label='Training loss')\n",
    "plt.plot(test_tracker, label='Test loss')\n",
    "plt.plot(accuracy_tracker, label='Test accuracy')\n",
    "plt.legend()"
   ]
  },
  {
   "cell_type": "markdown",
   "metadata": {
    "colab_type": "text",
    "id": "APhVglVTk-og"
   },
   "source": [
    "## Further challenges and experiments\n",
    "- Can you get better accuracy from a model if you :\n",
    "    - Add more layers?\n",
    "    - Change the number of nodes in the layers?\n",
    "    - Train over fewer/higher epochs?\n",
    "    \n",
    "- Can you improve on your results if you add additional layers like [Dropout](https://pytorch.org/docs/master/nn.html#torch.nn.Dropout)"
   ]
  },
  {
   "cell_type": "code",
   "execution_count": 0,
   "metadata": {
    "colab": {},
    "colab_type": "code",
    "id": "Ex8FzAY7jG3v"
   },
   "outputs": [],
   "source": []
  },
  {
   "cell_type": "code",
   "execution_count": 0,
   "metadata": {
    "colab": {},
    "colab_type": "code",
    "id": "6ImOG4oXjG3x"
   },
   "outputs": [],
   "source": []
  },
  {
   "cell_type": "code",
   "execution_count": 0,
   "metadata": {
    "colab": {},
    "colab_type": "code",
    "id": "CwHV3ig7jG3y"
   },
   "outputs": [],
   "source": []
  },
  {
   "cell_type": "code",
   "execution_count": 0,
   "metadata": {
    "colab": {},
    "colab_type": "code",
    "id": "fg3aU2vJjG30"
   },
   "outputs": [],
   "source": []
  },
  {
   "cell_type": "code",
   "execution_count": 0,
   "metadata": {
    "colab": {},
    "colab_type": "code",
    "id": "9UfGdMuCjG32"
   },
   "outputs": [],
   "source": []
  },
  {
   "cell_type": "code",
   "execution_count": 0,
   "metadata": {
    "colab": {},
    "colab_type": "code",
    "id": "xxOzS2-TjG34"
   },
   "outputs": [],
   "source": []
  },
  {
   "cell_type": "code",
   "execution_count": 0,
   "metadata": {
    "colab": {},
    "colab_type": "code",
    "id": "3kdUCpCyjG35"
   },
   "outputs": [],
   "source": []
  },
  {
   "cell_type": "code",
   "execution_count": 0,
   "metadata": {
    "colab": {},
    "colab_type": "code",
    "id": "RMhC9JJujG37"
   },
   "outputs": [],
   "source": []
  }
 ],
 "metadata": {
  "accelerator": "GPU",
  "colab": {
   "collapsed_sections": [],
   "name": "PyTorch Playground.ipynb",
   "provenance": [],
   "version": "0.3.2"
  },
  "kernelspec": {
   "display_name": "Python 3",
   "language": "python",
   "name": "python3"
  },
  "language_info": {
   "codemirror_mode": {
    "name": "ipython",
    "version": 3
   },
   "file_extension": ".py",
   "mimetype": "text/x-python",
   "name": "python",
   "nbconvert_exporter": "python",
   "pygments_lexer": "ipython3",
   "version": "3.6.13"
  }
 },
 "nbformat": 4,
 "nbformat_minor": 1
}
